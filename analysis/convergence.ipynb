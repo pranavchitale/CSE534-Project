{
 "cells": [
  {
   "cell_type": "code",
   "execution_count": 31,
   "metadata": {},
   "outputs": [],
   "source": [
    "import json\n",
    "import matplotlib.pyplot as plt"
   ]
  },
  {
   "cell_type": "markdown",
   "metadata": {},
   "source": [
    "# Similar"
   ]
  },
  {
   "cell_type": "code",
   "execution_count": 90,
   "metadata": {},
   "outputs": [],
   "source": [
    "f1 = ''\n",
    "f2 = ''"
   ]
  },
  {
   "cell_type": "code",
   "execution_count": 91,
   "metadata": {},
   "outputs": [],
   "source": [
    "with open(f1, 'r') as file:\n",
    "    data1 = json.load(file)\n",
    "\n",
    "with open(f2, 'r') as file:\n",
    "    data2 = json.load(file)\n",
    "\n",
    "text1 = data1['server_output_text'].split('\\n')[6:-5]\n",
    "\n",
    "text2 = data2['server_output_text'].split('\\n')[6:-5]"
   ]
  },
  {
   "cell_type": "code",
   "execution_count": 92,
   "metadata": {},
   "outputs": [],
   "source": [
    "gps1 = []\n",
    "for line in text1:\n",
    "    gp = line.split()[-2]\n",
    "    gps1.append(float(gp))\n",
    "\n",
    "gps2 = []\n",
    "for line in text2:\n",
    "    gp = line.split()[-2]\n",
    "    gps2.append(float(gp))"
   ]
  },
  {
   "cell_type": "code",
   "execution_count": null,
   "metadata": {},
   "outputs": [],
   "source": [
    "plt.figure(figsize=(10, 5))\n",
    "plt.plot(gps1, label='Flow 1', color='blue')\n",
    "plt.plot(gps2, label='Flow 2', color='orange')\n",
    "plt.title('Simultaneous Flow 1 and Flow 2', fontsize=16)\n",
    "plt.xlabel('Time (seconds)', fontsize=12)\n",
    "plt.ylabel('Goodput (Mbps)', fontsize=12)\n",
    "plt.legend()\n",
    "plt.grid()\n",
    "plt.tight_layout()\n"
   ]
  },
  {
   "cell_type": "markdown",
   "metadata": {},
   "source": [
    "# Staggered"
   ]
  },
  {
   "cell_type": "code",
   "execution_count": 94,
   "metadata": {},
   "outputs": [],
   "source": [
    "f1 = ''\n",
    "f2 = ''"
   ]
  },
  {
   "cell_type": "code",
   "execution_count": 95,
   "metadata": {},
   "outputs": [],
   "source": [
    "with open(f1, 'r') as file:\n",
    "    data1 = json.load(file)\n",
    "\n",
    "with open(f2, 'r') as file:\n",
    "    data2 = json.load(file)\n",
    "\n",
    "text1 = data1['server_output_text'].split('\\n')[6:-5]\n",
    "\n",
    "text2 = data2['server_output_text'].split('\\n')[6:-5]"
   ]
  },
  {
   "cell_type": "code",
   "execution_count": 96,
   "metadata": {},
   "outputs": [],
   "source": [
    "gps1 = []\n",
    "for line in text1:\n",
    "    gp = line.split()[-2]\n",
    "    gps1.append(float(gp))\n",
    "gps1 += [0] * 15\n",
    "\n",
    "gps2 = [0] * 15\n",
    "for line in text2:\n",
    "    gp = line.split()[-2]\n",
    "    gps2.append(float(gp))"
   ]
  },
  {
   "cell_type": "code",
   "execution_count": null,
   "metadata": {},
   "outputs": [],
   "source": [
    "plt.figure(figsize=(10, 5))\n",
    "plt.plot(gps1, label='Flow 1', color='blue')\n",
    "plt.plot(gps2, label='Flow 2', color='orange')\n",
    "plt.title('Staggered Flow 1 and Flow 2', fontsize=16)\n",
    "plt.xlabel('Time (seconds)', fontsize=12)\n",
    "plt.ylabel('Goodput (Mbps)', fontsize=12)\n",
    "plt.legend()\n",
    "plt.grid()\n",
    "plt.tight_layout()\n"
   ]
  }
 ],
 "metadata": {
  "kernelspec": {
   "display_name": "Python 3",
   "language": "python",
   "name": "python3"
  },
  "language_info": {
   "codemirror_mode": {
    "name": "ipython",
    "version": 3
   },
   "file_extension": ".py",
   "mimetype": "text/x-python",
   "name": "python",
   "nbconvert_exporter": "python",
   "pygments_lexer": "ipython3",
   "version": "3.10.11"
  }
 },
 "nbformat": 4,
 "nbformat_minor": 2
}
