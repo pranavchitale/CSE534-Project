{
 "cells": [
  {
   "cell_type": "code",
   "execution_count": 1,
   "metadata": {},
   "outputs": [],
   "source": [
    "import matplotlib.pyplot as plt\n",
    "import pandas as pd\n",
    "import numpy as np\n",
    "import math"
   ]
  },
  {
   "cell_type": "code",
   "execution_count": 24,
   "metadata": {},
   "outputs": [],
   "source": [
    "def preprocess_df(df):\n",
    "    df['segs_out_diff'] = 0\n",
    "    for i in range(1, len(df)):\n",
    "        df.loc[i, 'segs_out_diff'] = df.loc[i, 'segs_out'] - df.loc[i-1, 'segs_out']\n",
    "    df['inflight_hi_filled'] = df['inflight_hi'].ffill()\n",
    "    df['inflight_lo_filled'] = df['inflight_lo'].fillna(0)\n",
    "    if 'rwnd_limited' in df.columns:\n",
    "        df['rwnd_limited_filled'] = df['rwnd_limited'].fillna('0ms').apply(lambda x: x[:-2]).astype(int)\n",
    "    else:\n",
    "        df['rwnd_limited_filled'] = 0\n",
    "\n",
    "\n",
    "# iterate over df['phase'] and find out the segments for each phase. A phase can repeat, so take care of that. Store it in a dictionary which contains a list of segments where each segment contains start and end index.\n",
    "def get_phase_segments(df):\n",
    "    segments = {}\n",
    "    curr_phase = 'STARTUP'\n",
    "    phase_start = 0\n",
    "\n",
    "    for i in range(1,len(df)):\n",
    "        new_phase = df['phase'][i]\n",
    "        if new_phase != curr_phase:\n",
    "            if curr_phase not in segments:\n",
    "                segments[curr_phase] = []\n",
    "            segments[curr_phase].append((phase_start, i))\n",
    "            curr_phase = new_phase\n",
    "            phase_start = i\n",
    "        else:\n",
    "            continue\n",
    "\n",
    "    # add the last segment\n",
    "    if curr_phase not in segments:\n",
    "        segments[curr_phase] = []\n",
    "    segments[curr_phase].append((phase_start, len(df)))\n",
    "    return segments\n",
    "\n",
    "\n",
    "def plot(df, segments, title, adapt_ylim=False):\n",
    "    lw = 1\n",
    "    fig, ax = plt.subplots(figsize=(12, 6))\n",
    "    ax.plot(df['inflight_hi_filled'], color='orange', linewidth=lw, label='inflight_hi')\n",
    "    ax.plot(df['inflight_lo_filled'], color='lime', linewidth=lw, label='inflight_lo')\n",
    "    ax.plot(df['segs_out_diff'], color='blue', alpha=0.5, linewidth=lw, label='segs_out')\n",
    "    ax.set_ylim(0, 10000)\n",
    "    x_upper_lim = math.ceil(len(df)/3000) * 3000\n",
    "    ax.set_xlim(0, x_upper_lim)\n",
    "    ax.set_ylabel('Packets')\n",
    "    ax.set_xlabel('Sampling interval (per 10ms)')\n",
    "    for seg in segments['STARTUP']:\n",
    "        ax.axvspan(seg[0], seg[1], facecolor='gray', alpha=0.2)\n",
    "\n",
    "\n",
    "    fig.legend(loc='upper right', bbox_to_anchor=(0.9, 0.9))\n",
    "    fig.suptitle(title, fontsize=14)\n",
    "\n",
    "    fig.tight_layout()\n",
    "\n",
    "    fig.savefig('./finalplots/' + title.replace(' ', '') + '.png', dpi=300)"
   ]
  },
  {
   "cell_type": "code",
   "execution_count": 25,
   "metadata": {},
   "outputs": [],
   "source": [
    "paths = [\n",
    "    r'',\n",
    "    r'',\n",
    "    r'',\n",
    "]\n",
    "\n",
    "\n",
    "titles = [\n",
    "    'BBRv3 - RTT 100ms - Loss 2% - Time 5min',\n",
    "    'BBRv3+adapt - RTT 100ms - Loss 2% - Time 5min',\n",
    "    'BBRv3+2xIL - RTT 100ms - Loss 2% - Time 5min',\n",
    "]\n",
    "\n",
    "adapt_ylim_list = [\n",
    "    True,\n",
    "    True,\n",
    "    True,\n",
    "]"
   ]
  },
  {
   "cell_type": "code",
   "execution_count": null,
   "metadata": {},
   "outputs": [],
   "source": [
    "for path, title, adapt_ylim in zip(paths, titles, adapt_ylim_list):\n",
    "    df = pd.read_csv(path)\n",
    "    preprocess_df(df)\n",
    "    segments = get_phase_segments(df)\n",
    "    plot(df, segments, title, adapt_ylim=adapt_ylim)"
   ]
  }
 ],
 "metadata": {
  "kernelspec": {
   "display_name": "Python 3",
   "language": "python",
   "name": "python3"
  },
  "language_info": {
   "codemirror_mode": {
    "name": "ipython",
    "version": 3
   },
   "file_extension": ".py",
   "mimetype": "text/x-python",
   "name": "python",
   "nbconvert_exporter": "python",
   "pygments_lexer": "ipython3",
   "version": "3.10.11"
  }
 },
 "nbformat": 4,
 "nbformat_minor": 2
}
